{
 "cells": [
  {
   "cell_type": "code",
   "execution_count": 1,
   "metadata": {},
   "outputs": [],
   "source": [
    "import numpy as np\n",
    "import pandas as pd\n",
    "import matplotlib.pyplot as plt\n",
    "import seaborn as sbn"
   ]
  },
  {
   "cell_type": "code",
   "execution_count": 3,
   "metadata": {},
   "outputs": [],
   "source": [
    "# read data\n",
    "train_data = pd.read_csv(\"mitbih_train.csv\", sep=r'\\s*,\\s*',encoding='ascii',header = None, engine='python')\n",
    "# test_data = pd.read_csv(\"mitbih_test.csv\", sep=r'\\s*,\\s*',encoding='ascii',header = None, engine='python')"
   ]
  },
  {
   "cell_type": "code",
   "execution_count": 9,
   "metadata": {},
   "outputs": [
    {
     "data": {
      "text/html": [
       "<div>\n",
       "<style scoped>\n",
       "    .dataframe tbody tr th:only-of-type {\n",
       "        vertical-align: middle;\n",
       "    }\n",
       "\n",
       "    .dataframe tbody tr th {\n",
       "        vertical-align: top;\n",
       "    }\n",
       "\n",
       "    .dataframe thead th {\n",
       "        text-align: right;\n",
       "    }\n",
       "</style>\n",
       "<table border=\"1\" class=\"dataframe\">\n",
       "  <thead>\n",
       "    <tr style=\"text-align: right;\">\n",
       "      <th></th>\n",
       "      <th>0</th>\n",
       "      <th>1</th>\n",
       "      <th>2</th>\n",
       "      <th>3</th>\n",
       "      <th>4</th>\n",
       "      <th>5</th>\n",
       "      <th>6</th>\n",
       "      <th>7</th>\n",
       "      <th>8</th>\n",
       "      <th>9</th>\n",
       "      <th>...</th>\n",
       "      <th>178</th>\n",
       "      <th>179</th>\n",
       "      <th>180</th>\n",
       "      <th>181</th>\n",
       "      <th>182</th>\n",
       "      <th>183</th>\n",
       "      <th>184</th>\n",
       "      <th>185</th>\n",
       "      <th>186</th>\n",
       "      <th>187</th>\n",
       "    </tr>\n",
       "  </thead>\n",
       "  <tbody>\n",
       "    <tr>\n",
       "      <th>0</th>\n",
       "      <td>0.977941</td>\n",
       "      <td>0.926471</td>\n",
       "      <td>0.681373</td>\n",
       "      <td>0.245098</td>\n",
       "      <td>0.154412</td>\n",
       "      <td>0.191176</td>\n",
       "      <td>0.151961</td>\n",
       "      <td>0.085784</td>\n",
       "      <td>0.058824</td>\n",
       "      <td>0.049020</td>\n",
       "      <td>...</td>\n",
       "      <td>0.0</td>\n",
       "      <td>0.0</td>\n",
       "      <td>0.0</td>\n",
       "      <td>0.0</td>\n",
       "      <td>0.0</td>\n",
       "      <td>0.0</td>\n",
       "      <td>0.0</td>\n",
       "      <td>0.0</td>\n",
       "      <td>0.0</td>\n",
       "      <td>0.0</td>\n",
       "    </tr>\n",
       "    <tr>\n",
       "      <th>1</th>\n",
       "      <td>0.960114</td>\n",
       "      <td>0.863248</td>\n",
       "      <td>0.461538</td>\n",
       "      <td>0.196581</td>\n",
       "      <td>0.094017</td>\n",
       "      <td>0.125356</td>\n",
       "      <td>0.099715</td>\n",
       "      <td>0.088319</td>\n",
       "      <td>0.074074</td>\n",
       "      <td>0.082621</td>\n",
       "      <td>...</td>\n",
       "      <td>0.0</td>\n",
       "      <td>0.0</td>\n",
       "      <td>0.0</td>\n",
       "      <td>0.0</td>\n",
       "      <td>0.0</td>\n",
       "      <td>0.0</td>\n",
       "      <td>0.0</td>\n",
       "      <td>0.0</td>\n",
       "      <td>0.0</td>\n",
       "      <td>0.0</td>\n",
       "    </tr>\n",
       "  </tbody>\n",
       "</table>\n",
       "<p>2 rows × 188 columns</p>\n",
       "</div>"
      ],
      "text/plain": [
       "        0         1         2         3         4         5         6    \\\n",
       "0  0.977941  0.926471  0.681373  0.245098  0.154412  0.191176  0.151961   \n",
       "1  0.960114  0.863248  0.461538  0.196581  0.094017  0.125356  0.099715   \n",
       "\n",
       "        7         8         9    ...  178  179  180  181  182  183  184  185  \\\n",
       "0  0.085784  0.058824  0.049020  ...  0.0  0.0  0.0  0.0  0.0  0.0  0.0  0.0   \n",
       "1  0.088319  0.074074  0.082621  ...  0.0  0.0  0.0  0.0  0.0  0.0  0.0  0.0   \n",
       "\n",
       "   186  187  \n",
       "0  0.0  0.0  \n",
       "1  0.0  0.0  \n",
       "\n",
       "[2 rows x 188 columns]"
      ]
     },
     "execution_count": 9,
     "metadata": {},
     "output_type": "execute_result"
    }
   ],
   "source": [
    "train_data.head(2)"
   ]
  },
  {
   "cell_type": "code",
   "execution_count": 5,
   "metadata": {},
   "outputs": [],
   "source": [
    "sample_ecg_data = train_data.head(100)"
   ]
  },
  {
   "cell_type": "code",
   "execution_count": 6,
   "metadata": {},
   "outputs": [],
   "source": [
    "sample_ecg_data.to_csv(\"sampledataset.csv\",sep=',')"
   ]
  },
  {
   "cell_type": "code",
   "execution_count": 7,
   "metadata": {},
   "outputs": [],
   "source": [
    "s = pd.read_csv(\"sampledataset.csv\",sep=',',header=None)"
   ]
  },
  {
   "cell_type": "code",
   "execution_count": 8,
   "metadata": {},
   "outputs": [
    {
     "data": {
      "text/html": [
       "<div>\n",
       "<style scoped>\n",
       "    .dataframe tbody tr th:only-of-type {\n",
       "        vertical-align: middle;\n",
       "    }\n",
       "\n",
       "    .dataframe tbody tr th {\n",
       "        vertical-align: top;\n",
       "    }\n",
       "\n",
       "    .dataframe thead th {\n",
       "        text-align: right;\n",
       "    }\n",
       "</style>\n",
       "<table border=\"1\" class=\"dataframe\">\n",
       "  <thead>\n",
       "    <tr style=\"text-align: right;\">\n",
       "      <th></th>\n",
       "      <th>0</th>\n",
       "      <th>1</th>\n",
       "      <th>2</th>\n",
       "      <th>3</th>\n",
       "      <th>4</th>\n",
       "      <th>5</th>\n",
       "      <th>6</th>\n",
       "      <th>7</th>\n",
       "      <th>8</th>\n",
       "      <th>9</th>\n",
       "      <th>...</th>\n",
       "      <th>179</th>\n",
       "      <th>180</th>\n",
       "      <th>181</th>\n",
       "      <th>182</th>\n",
       "      <th>183</th>\n",
       "      <th>184</th>\n",
       "      <th>185</th>\n",
       "      <th>186</th>\n",
       "      <th>187</th>\n",
       "      <th>188</th>\n",
       "    </tr>\n",
       "  </thead>\n",
       "  <tbody>\n",
       "    <tr>\n",
       "      <th>0</th>\n",
       "      <td>NaN</td>\n",
       "      <td>0.000000</td>\n",
       "      <td>1.000000</td>\n",
       "      <td>2.000000</td>\n",
       "      <td>3.000000</td>\n",
       "      <td>4.000000</td>\n",
       "      <td>5.000000</td>\n",
       "      <td>6.000000</td>\n",
       "      <td>7.000000</td>\n",
       "      <td>8.000000</td>\n",
       "      <td>...</td>\n",
       "      <td>178.0</td>\n",
       "      <td>179.0</td>\n",
       "      <td>180.0</td>\n",
       "      <td>181.0</td>\n",
       "      <td>182.0</td>\n",
       "      <td>183.0</td>\n",
       "      <td>184.0</td>\n",
       "      <td>185.0</td>\n",
       "      <td>186.0</td>\n",
       "      <td>187.0</td>\n",
       "    </tr>\n",
       "    <tr>\n",
       "      <th>1</th>\n",
       "      <td>0.0</td>\n",
       "      <td>0.977941</td>\n",
       "      <td>0.926471</td>\n",
       "      <td>0.681373</td>\n",
       "      <td>0.245098</td>\n",
       "      <td>0.154412</td>\n",
       "      <td>0.191176</td>\n",
       "      <td>0.151961</td>\n",
       "      <td>0.085784</td>\n",
       "      <td>0.058824</td>\n",
       "      <td>...</td>\n",
       "      <td>0.0</td>\n",
       "      <td>0.0</td>\n",
       "      <td>0.0</td>\n",
       "      <td>0.0</td>\n",
       "      <td>0.0</td>\n",
       "      <td>0.0</td>\n",
       "      <td>0.0</td>\n",
       "      <td>0.0</td>\n",
       "      <td>0.0</td>\n",
       "      <td>0.0</td>\n",
       "    </tr>\n",
       "    <tr>\n",
       "      <th>2</th>\n",
       "      <td>1.0</td>\n",
       "      <td>0.960114</td>\n",
       "      <td>0.863248</td>\n",
       "      <td>0.461538</td>\n",
       "      <td>0.196581</td>\n",
       "      <td>0.094017</td>\n",
       "      <td>0.125356</td>\n",
       "      <td>0.099715</td>\n",
       "      <td>0.088319</td>\n",
       "      <td>0.074074</td>\n",
       "      <td>...</td>\n",
       "      <td>0.0</td>\n",
       "      <td>0.0</td>\n",
       "      <td>0.0</td>\n",
       "      <td>0.0</td>\n",
       "      <td>0.0</td>\n",
       "      <td>0.0</td>\n",
       "      <td>0.0</td>\n",
       "      <td>0.0</td>\n",
       "      <td>0.0</td>\n",
       "      <td>0.0</td>\n",
       "    </tr>\n",
       "    <tr>\n",
       "      <th>3</th>\n",
       "      <td>2.0</td>\n",
       "      <td>1.000000</td>\n",
       "      <td>0.659459</td>\n",
       "      <td>0.186486</td>\n",
       "      <td>0.070270</td>\n",
       "      <td>0.070270</td>\n",
       "      <td>0.059459</td>\n",
       "      <td>0.056757</td>\n",
       "      <td>0.043243</td>\n",
       "      <td>0.054054</td>\n",
       "      <td>...</td>\n",
       "      <td>0.0</td>\n",
       "      <td>0.0</td>\n",
       "      <td>0.0</td>\n",
       "      <td>0.0</td>\n",
       "      <td>0.0</td>\n",
       "      <td>0.0</td>\n",
       "      <td>0.0</td>\n",
       "      <td>0.0</td>\n",
       "      <td>0.0</td>\n",
       "      <td>0.0</td>\n",
       "    </tr>\n",
       "    <tr>\n",
       "      <th>4</th>\n",
       "      <td>3.0</td>\n",
       "      <td>0.925414</td>\n",
       "      <td>0.665746</td>\n",
       "      <td>0.541436</td>\n",
       "      <td>0.276243</td>\n",
       "      <td>0.196133</td>\n",
       "      <td>0.077348</td>\n",
       "      <td>0.071823</td>\n",
       "      <td>0.060773</td>\n",
       "      <td>0.066298</td>\n",
       "      <td>...</td>\n",
       "      <td>0.0</td>\n",
       "      <td>0.0</td>\n",
       "      <td>0.0</td>\n",
       "      <td>0.0</td>\n",
       "      <td>0.0</td>\n",
       "      <td>0.0</td>\n",
       "      <td>0.0</td>\n",
       "      <td>0.0</td>\n",
       "      <td>0.0</td>\n",
       "      <td>0.0</td>\n",
       "    </tr>\n",
       "    <tr>\n",
       "      <th>...</th>\n",
       "      <td>...</td>\n",
       "      <td>...</td>\n",
       "      <td>...</td>\n",
       "      <td>...</td>\n",
       "      <td>...</td>\n",
       "      <td>...</td>\n",
       "      <td>...</td>\n",
       "      <td>...</td>\n",
       "      <td>...</td>\n",
       "      <td>...</td>\n",
       "      <td>...</td>\n",
       "      <td>...</td>\n",
       "      <td>...</td>\n",
       "      <td>...</td>\n",
       "      <td>...</td>\n",
       "      <td>...</td>\n",
       "      <td>...</td>\n",
       "      <td>...</td>\n",
       "      <td>...</td>\n",
       "      <td>...</td>\n",
       "      <td>...</td>\n",
       "    </tr>\n",
       "    <tr>\n",
       "      <th>96</th>\n",
       "      <td>95.0</td>\n",
       "      <td>1.000000</td>\n",
       "      <td>0.979021</td>\n",
       "      <td>0.706294</td>\n",
       "      <td>0.391608</td>\n",
       "      <td>0.059441</td>\n",
       "      <td>0.048951</td>\n",
       "      <td>0.125874</td>\n",
       "      <td>0.171329</td>\n",
       "      <td>0.220280</td>\n",
       "      <td>...</td>\n",
       "      <td>0.0</td>\n",
       "      <td>0.0</td>\n",
       "      <td>0.0</td>\n",
       "      <td>0.0</td>\n",
       "      <td>0.0</td>\n",
       "      <td>0.0</td>\n",
       "      <td>0.0</td>\n",
       "      <td>0.0</td>\n",
       "      <td>0.0</td>\n",
       "      <td>0.0</td>\n",
       "    </tr>\n",
       "    <tr>\n",
       "      <th>97</th>\n",
       "      <td>96.0</td>\n",
       "      <td>0.940937</td>\n",
       "      <td>0.957230</td>\n",
       "      <td>0.374745</td>\n",
       "      <td>0.034623</td>\n",
       "      <td>0.008147</td>\n",
       "      <td>0.000000</td>\n",
       "      <td>0.006110</td>\n",
       "      <td>0.012220</td>\n",
       "      <td>0.109980</td>\n",
       "      <td>...</td>\n",
       "      <td>0.0</td>\n",
       "      <td>0.0</td>\n",
       "      <td>0.0</td>\n",
       "      <td>0.0</td>\n",
       "      <td>0.0</td>\n",
       "      <td>0.0</td>\n",
       "      <td>0.0</td>\n",
       "      <td>0.0</td>\n",
       "      <td>0.0</td>\n",
       "      <td>0.0</td>\n",
       "    </tr>\n",
       "    <tr>\n",
       "      <th>98</th>\n",
       "      <td>97.0</td>\n",
       "      <td>0.930966</td>\n",
       "      <td>0.925049</td>\n",
       "      <td>0.453649</td>\n",
       "      <td>0.315582</td>\n",
       "      <td>0.319527</td>\n",
       "      <td>0.305720</td>\n",
       "      <td>0.244576</td>\n",
       "      <td>0.207101</td>\n",
       "      <td>0.157791</td>\n",
       "      <td>...</td>\n",
       "      <td>0.0</td>\n",
       "      <td>0.0</td>\n",
       "      <td>0.0</td>\n",
       "      <td>0.0</td>\n",
       "      <td>0.0</td>\n",
       "      <td>0.0</td>\n",
       "      <td>0.0</td>\n",
       "      <td>0.0</td>\n",
       "      <td>0.0</td>\n",
       "      <td>0.0</td>\n",
       "    </tr>\n",
       "    <tr>\n",
       "      <th>99</th>\n",
       "      <td>98.0</td>\n",
       "      <td>1.000000</td>\n",
       "      <td>0.956879</td>\n",
       "      <td>0.642710</td>\n",
       "      <td>0.299795</td>\n",
       "      <td>0.229979</td>\n",
       "      <td>0.223819</td>\n",
       "      <td>0.151951</td>\n",
       "      <td>0.135524</td>\n",
       "      <td>0.139630</td>\n",
       "      <td>...</td>\n",
       "      <td>0.0</td>\n",
       "      <td>0.0</td>\n",
       "      <td>0.0</td>\n",
       "      <td>0.0</td>\n",
       "      <td>0.0</td>\n",
       "      <td>0.0</td>\n",
       "      <td>0.0</td>\n",
       "      <td>0.0</td>\n",
       "      <td>0.0</td>\n",
       "      <td>0.0</td>\n",
       "    </tr>\n",
       "    <tr>\n",
       "      <th>100</th>\n",
       "      <td>99.0</td>\n",
       "      <td>0.489899</td>\n",
       "      <td>0.484848</td>\n",
       "      <td>0.636364</td>\n",
       "      <td>0.762626</td>\n",
       "      <td>0.752525</td>\n",
       "      <td>0.752525</td>\n",
       "      <td>0.772727</td>\n",
       "      <td>0.792929</td>\n",
       "      <td>0.828283</td>\n",
       "      <td>...</td>\n",
       "      <td>0.0</td>\n",
       "      <td>0.0</td>\n",
       "      <td>0.0</td>\n",
       "      <td>0.0</td>\n",
       "      <td>0.0</td>\n",
       "      <td>0.0</td>\n",
       "      <td>0.0</td>\n",
       "      <td>0.0</td>\n",
       "      <td>0.0</td>\n",
       "      <td>0.0</td>\n",
       "    </tr>\n",
       "  </tbody>\n",
       "</table>\n",
       "<p>101 rows × 189 columns</p>\n",
       "</div>"
      ],
      "text/plain": [
       "      0         1         2         3         4         5         6    \\\n",
       "0     NaN  0.000000  1.000000  2.000000  3.000000  4.000000  5.000000   \n",
       "1     0.0  0.977941  0.926471  0.681373  0.245098  0.154412  0.191176   \n",
       "2     1.0  0.960114  0.863248  0.461538  0.196581  0.094017  0.125356   \n",
       "3     2.0  1.000000  0.659459  0.186486  0.070270  0.070270  0.059459   \n",
       "4     3.0  0.925414  0.665746  0.541436  0.276243  0.196133  0.077348   \n",
       "..    ...       ...       ...       ...       ...       ...       ...   \n",
       "96   95.0  1.000000  0.979021  0.706294  0.391608  0.059441  0.048951   \n",
       "97   96.0  0.940937  0.957230  0.374745  0.034623  0.008147  0.000000   \n",
       "98   97.0  0.930966  0.925049  0.453649  0.315582  0.319527  0.305720   \n",
       "99   98.0  1.000000  0.956879  0.642710  0.299795  0.229979  0.223819   \n",
       "100  99.0  0.489899  0.484848  0.636364  0.762626  0.752525  0.752525   \n",
       "\n",
       "          7         8         9    ...    179    180    181    182    183  \\\n",
       "0    6.000000  7.000000  8.000000  ...  178.0  179.0  180.0  181.0  182.0   \n",
       "1    0.151961  0.085784  0.058824  ...    0.0    0.0    0.0    0.0    0.0   \n",
       "2    0.099715  0.088319  0.074074  ...    0.0    0.0    0.0    0.0    0.0   \n",
       "3    0.056757  0.043243  0.054054  ...    0.0    0.0    0.0    0.0    0.0   \n",
       "4    0.071823  0.060773  0.066298  ...    0.0    0.0    0.0    0.0    0.0   \n",
       "..        ...       ...       ...  ...    ...    ...    ...    ...    ...   \n",
       "96   0.125874  0.171329  0.220280  ...    0.0    0.0    0.0    0.0    0.0   \n",
       "97   0.006110  0.012220  0.109980  ...    0.0    0.0    0.0    0.0    0.0   \n",
       "98   0.244576  0.207101  0.157791  ...    0.0    0.0    0.0    0.0    0.0   \n",
       "99   0.151951  0.135524  0.139630  ...    0.0    0.0    0.0    0.0    0.0   \n",
       "100  0.772727  0.792929  0.828283  ...    0.0    0.0    0.0    0.0    0.0   \n",
       "\n",
       "       184    185    186    187    188  \n",
       "0    183.0  184.0  185.0  186.0  187.0  \n",
       "1      0.0    0.0    0.0    0.0    0.0  \n",
       "2      0.0    0.0    0.0    0.0    0.0  \n",
       "3      0.0    0.0    0.0    0.0    0.0  \n",
       "4      0.0    0.0    0.0    0.0    0.0  \n",
       "..     ...    ...    ...    ...    ...  \n",
       "96     0.0    0.0    0.0    0.0    0.0  \n",
       "97     0.0    0.0    0.0    0.0    0.0  \n",
       "98     0.0    0.0    0.0    0.0    0.0  \n",
       "99     0.0    0.0    0.0    0.0    0.0  \n",
       "100    0.0    0.0    0.0    0.0    0.0  \n",
       "\n",
       "[101 rows x 189 columns]"
      ]
     },
     "execution_count": 8,
     "metadata": {},
     "output_type": "execute_result"
    }
   ],
   "source": [
    "s"
   ]
  },
  {
   "cell_type": "code",
   "execution_count": 10,
   "metadata": {},
   "outputs": [
    {
     "data": {
      "text/plain": [
       "0      1\n",
       "1      0\n",
       "2      0\n",
       "3      0\n",
       "4      0\n",
       "      ..\n",
       "184    0\n",
       "185    0\n",
       "186    0\n",
       "187    0\n",
       "188    0\n",
       "Length: 189, dtype: int64"
      ]
     },
     "execution_count": 10,
     "metadata": {},
     "output_type": "execute_result"
    }
   ],
   "source": [
    "s.isnull().sum()"
   ]
  },
  {
   "cell_type": "code",
   "execution_count": 13,
   "metadata": {},
   "outputs": [
    {
     "data": {
      "text/plain": [
       "array([186.        ,   0.        ,   0.23701298,   0.35264054])"
      ]
     },
     "execution_count": 13,
     "metadata": {},
     "output_type": "execute_result"
    }
   ],
   "source": [
    "s.iloc[:,187].unique()"
   ]
  },
  {
   "cell_type": "code",
   "execution_count": null,
   "metadata": {},
   "outputs": [
    {
     "ename": "NameError",
     "evalue": "name 'test_data' is not defined",
     "output_type": "error",
     "traceback": [
      "\u001b[1;31m---------------------------------------------------------------------------\u001b[0m",
      "\u001b[1;31mNameError\u001b[0m                                 Traceback (most recent call last)",
      "\u001b[1;32m<ipython-input-12-68db9dd73f1c>\u001b[0m in \u001b[0;36m<module>\u001b[1;34m\u001b[0m\n\u001b[1;32m----> 1\u001b[1;33m \u001b[0ms\u001b[0m\u001b[1;33m[\u001b[0m\u001b[1;36m187\u001b[0m\u001b[1;33m]\u001b[0m \u001b[1;33m=\u001b[0m \u001b[0mtest_data\u001b[0m\u001b[1;33m[\u001b[0m\u001b[1;36m187\u001b[0m\u001b[1;33m]\u001b[0m\u001b[1;33m.\u001b[0m\u001b[0mastype\u001b[0m\u001b[1;33m(\u001b[0m\u001b[1;34m'int'\u001b[0m\u001b[1;33m)\u001b[0m\u001b[1;33m\u001b[0m\u001b[1;33m\u001b[0m\u001b[0m\n\u001b[0m",
      "\u001b[1;31mNameError\u001b[0m: name 'test_data' is not defined"
     ]
    }
   ],
   "source": [
    "test_data[187] = test_data[187].astype('int')"
   ]
  },
  {
   "cell_type": "code",
   "execution_count": 14,
   "metadata": {},
   "outputs": [
    {
     "data": {
      "text/plain": [
       "<seaborn.axisgrid.FacetGrid at 0x2649fd34c10>"
      ]
     },
     "execution_count": 14,
     "metadata": {},
     "output_type": "execute_result"
    },
    {
     "data": {
      "image/png": "[encoded data removed]",
      "text/plain": [
       "<Figure size 360x360 with 1 Axes>"
      ]
     },
     "metadata": {
      "needs_background": "light"
     },
     "output_type": "display_data"
    }
   ],
   "source": [
    "sbn.catplot(x = 187, kind = 'count', data = s)"
   ]
  },
  {
   "cell_type": "code",
   "execution_count": 8,
   "metadata": {},
   "outputs": [
    {
     "data": {
      "image/png": "[encoded data removed]",
      "text/plain": [
       "<Figure size 720x720 with 1 Axes>"
      ]
     },
     "metadata": {},
     "output_type": "display_data"
    }
   ],
   "source": [
    "plt.figure(figsize = (10,10))\n",
    "train_circle = plt.Circle((0,0), 0.7,color = 'white')\n",
    "plt.pie(train_data[187].value_counts(), labels = ['NB','UB','VEB','SEB','FB'], autopct='%0.0f%%', colors = ['red','blue','orange','magenta','cyan'])\n",
    "p = plt.gcf()\n",
    "p.gca().add_artist(train_circle)\n",
    "plt.show()"
   ]
  },
  {
   "cell_type": "code",
   "execution_count": 18,
   "metadata": {},
   "outputs": [
    {
     "data": {
      "image/png": "[encoded data removed]",
      "text/plain": [
       "<Figure size 1440x576 with 1 Axes>"
      ]
     },
     "metadata": {
      "needs_background": "light"
     },
     "output_type": "display_data"
    }
   ],
   "source": [
    "# sbn.set_style('white')\n",
    "plt.figure(figsize = (20,8))\n",
    "plt.plot(s.iloc[2,0:187], color = 'red')\n",
    "plt.show()"
   ]
  },
  {
   "cell_type": "code",
   "execution_count": 11,
   "metadata": {},
   "outputs": [],
   "source": [
    "# Splitting data into Each Classes\n",
    "df_1 = train_data[train_data[187] == 1]\n",
    "df_2 = train_data[train_data[187] == 2]\n",
    "df_3 = train_data[train_data[187] == 3]\n",
    "df_4 = train_data[train_data[187] == 4]"
   ]
  },
  {
   "cell_type": "code",
   "execution_count": 12,
   "metadata": {},
   "outputs": [],
   "source": [
    "from sklearn.utils import resample\n",
    "\n",
    "df_1_upsample = resample(df_1, n_samples = 20000, replace = True, random_state = 123)\n",
    "df_2_upsample = resample(df_2, n_samples = 20000, replace = True, random_state = 123)\n",
    "df_3_upsample = resample(df_3, n_samples = 20000, replace = True, random_state = 123)\n",
    "df_4_upsample = resample(df_4, n_samples = 20000, replace = True, random_state = 123)"
   ]
  },
  {
   "cell_type": "code",
   "execution_count": 55,
   "metadata": {},
   "outputs": [],
   "source": [
    "# downsample\n",
    "df_0 = train_data[train_data[187]==0].sample(n = 20000, random_state = 123)"
   ]
  },
  {
   "cell_type": "code",
   "execution_count": 57,
   "metadata": {},
   "outputs": [],
   "source": [
    "# merge and all dataframes to create new train samples\n",
    "train_df = pd.concat([df_0, df_1_upsample, df_2_upsample, df_3_upsample, df_4_upsample])"
   ]
  },
  {
   "cell_type": "code",
   "execution_count": 58,
   "metadata": {},
   "outputs": [],
   "source": [
    "# target Y\n",
    "target_train = train_df[187]\n",
    "target_test = test_data[187]"
   ]
  },
  {
   "cell_type": "code",
   "execution_count": 59,
   "metadata": {},
   "outputs": [
    {
     "data": {
      "text/plain": [
       "array([0., 1., 2., 3., 4.])"
      ]
     },
     "execution_count": 59,
     "metadata": {},
     "output_type": "execute_result"
    }
   ],
   "source": [
    "target_train.unique()"
   ]
  },
  {
   "cell_type": "code",
   "execution_count": 66,
   "metadata": {},
   "outputs": [],
   "source": [
    "from keras.utils.np_utils import to_categorical\n",
    "y_train = to_categorical(target_train)"
   ]
  },
  {
   "cell_type": "code",
   "execution_count": 68,
   "metadata": {},
   "outputs": [],
   "source": [
    "y_test = to_categorical(target_test)"
   ]
  },
  {
   "cell_type": "code",
   "execution_count": 69,
   "metadata": {},
   "outputs": [
    {
     "data": {
      "text/plain": [
       "0        0\n",
       "1        0\n",
       "2        0\n",
       "3        0\n",
       "4        0\n",
       "        ..\n",
       "21887    4\n",
       "21888    4\n",
       "21889    4\n",
       "21890    4\n",
       "21891    4\n",
       "Name: 187, Length: 21892, dtype: int32"
      ]
     },
     "execution_count": 69,
     "metadata": {},
     "output_type": "execute_result"
    }
   ],
   "source": [
    "target_test"
   ]
  },
  {
   "cell_type": "code",
   "execution_count": 71,
   "metadata": {},
   "outputs": [
    {
     "data": {
      "text/plain": [
       "array([[1., 0., 0., 0., 0.],\n",
       "       [1., 0., 0., 0., 0.],\n",
       "       [1., 0., 0., 0., 0.],\n",
       "       ...,\n",
       "       [0., 0., 0., 0., 1.],\n",
       "       [0., 0., 0., 0., 1.],\n",
       "       [0., 0., 0., 0., 1.]], dtype=float32)"
      ]
     },
     "execution_count": 71,
     "metadata": {},
     "output_type": "execute_result"
    }
   ],
   "source": [
    "y_test"
   ]
  },
  {
   "cell_type": "code",
   "execution_count": 72,
   "metadata": {},
   "outputs": [],
   "source": [
    "X_train = train_df.iloc[:, :-1].values\n",
    "X_test = test_data.iloc[:, :-1].values"
   ]
  },
  {
   "cell_type": "code",
   "execution_count": 73,
   "metadata": {},
   "outputs": [
    {
     "data": {
      "text/plain": [
       "(100000, 187)"
      ]
     },
     "execution_count": 73,
     "metadata": {},
     "output_type": "execute_result"
    }
   ],
   "source": [
    "# this data is in single dimension, 1D (no of samples, features)\n",
    "X_train.shape"
   ]
  },
  {
   "cell_type": "code",
   "execution_count": 74,
   "metadata": {},
   "outputs": [],
   "source": [
    "# For conv1D dimentionality should be 187X1 where 187 is number of features and 1 = 1D Dimentionality of data\n",
    "X_train = X_train.reshape(len(X_train),X_train.shape[1],1)\n",
    "X_test = X_test.reshape(len(X_test),X_test.shape[1],1)"
   ]
  },
  {
   "cell_type": "code",
   "execution_count": 75,
   "metadata": {},
   "outputs": [
    {
     "data": {
      "text/plain": [
       "(100000, 187, 1)"
      ]
     },
     "execution_count": 75,
     "metadata": {},
     "output_type": "execute_result"
    }
   ],
   "source": [
    "X_train.shape"
   ]
  },
  {
   "cell_type": "code",
   "execution_count": 76,
   "metadata": {},
   "outputs": [],
   "source": [
    "# CNN\n",
    "from keras.models import Sequential\n",
    "from keras.layers import Dense # for fully connected layers dense will be used\n",
    "from keras.layers import Conv1D, MaxPooling1D, Flatten\n",
    "from keras.optimizers import Adam\n",
    "\n",
    "# avoid overfitting by normalizing the samples\n",
    "from keras.layers.normalization import BatchNormalization"
   ]
  },
  {
   "cell_type": "code",
   "execution_count": 77,
   "metadata": {},
   "outputs": [],
   "source": [
    "def build_model():\n",
    "    model = Sequential()\n",
    "    \n",
    "    # Filters = Units in Dense Total number of Neurons\n",
    "    # Padding = 'same' , zero-padding, Add zero pixels all around input data\n",
    "    model.add(Conv1D(filters = 64, kernel_size = 6, activation='relu', padding = 'same', input_shape = (187, 1))) #we pass individual values hence not 100000,187,1\n",
    "    \n",
    "    # Normalization to avoid overfitting\n",
    "    model.add(BatchNormalization())\n",
    "    \n",
    "    # Pooling \n",
    "    model.add(MaxPooling1D(pool_size=(3), strides = (2), padding = 'same'))\n",
    "\n",
    "    model.add(Conv1D(filters = 64, kernel_size = 6, activation='relu', padding = 'same'))\n",
    "    model.add(BatchNormalization())\n",
    "    model.add(MaxPooling1D(pool_size=(3), strides = (2), padding = 'same'))\n",
    "\n",
    "    model.add(Conv1D( filters = 64, kernel_size = 6, activation='relu', padding = 'same'))\n",
    "    model.add(BatchNormalization())\n",
    "    model.add(MaxPooling1D(pool_size=(3), strides = (2), padding = 'same'))\n",
    "\n",
    "    # Flatten \n",
    "    model.add(Flatten())\n",
    "\n",
    "    # Fully connected layer\n",
    "    # input layer\n",
    "    model.add(Dense(units = 64, activation='relu'))\n",
    "    \n",
    "    # Hidden Layer\n",
    "    model.add(Dense(units = 64, activation='relu'))\n",
    "    \n",
    "    # Output Layer\n",
    "    model.add(Dense(units = 5, activation='softmax'))\n",
    "\n",
    "    # loss = 'categorical_crossentropy'\n",
    "    model.compile(optimizer = 'Adam', loss = 'categorical_crossentropy', metrics = ['accuracy'])\n",
    "    return model"
   ]
  },
  {
   "cell_type": "code",
   "execution_count": 78,
   "metadata": {},
   "outputs": [],
   "source": [
    "model = build_model()"
   ]
  },
  {
   "cell_type": "code",
   "execution_count": 79,
   "metadata": {},
   "outputs": [
    {
     "name": "stdout",
     "output_type": "stream",
     "text": [
      "Model: \"sequential\"\n",
      "_________________________________________________________________\n",
      "Layer (type)                 Output Shape              Param #   \n",
      "=================================================================\n",
      "conv1d (Conv1D)              (None, 187, 64)           448       \n",
      "_________________________________________________________________\n",
      "batch_normalization (BatchNo (None, 187, 64)           256       \n",
      "_________________________________________________________________\n",
      "max_pooling1d (MaxPooling1D) (None, 94, 64)            0         \n",
      "_________________________________________________________________\n",
      "conv1d_1 (Conv1D)            (None, 94, 64)            24640     \n",
      "_________________________________________________________________\n",
      "batch_normalization_1 (Batch (None, 94, 64)            256       \n",
      "_________________________________________________________________\n",
      "max_pooling1d_1 (MaxPooling1 (None, 47, 64)            0         \n",
      "_________________________________________________________________\n",
      "conv1d_2 (Conv1D)            (None, 47, 64)            24640     \n",
      "_________________________________________________________________\n",
      "batch_normalization_2 (Batch (None, 47, 64)            256       \n",
      "_________________________________________________________________\n",
      "max_pooling1d_2 (MaxPooling1 (None, 24, 64)            0         \n",
      "_________________________________________________________________\n",
      "flatten (Flatten)            (None, 1536)              0         \n",
      "_________________________________________________________________\n",
      "dense (Dense)                (None, 64)                98368     \n",
      "_________________________________________________________________\n",
      "dense_1 (Dense)              (None, 64)                4160      \n",
      "_________________________________________________________________\n",
      "dense_2 (Dense)              (None, 5)                 325       \n",
      "=================================================================\n",
      "Total params: 153,349\n",
      "Trainable params: 152,965\n",
      "Non-trainable params: 384\n",
      "_________________________________________________________________\n"
     ]
    }
   ],
   "source": [
    "# This is for one sample, i.e. one row\n",
    "model.summary()"
   ]
  },
  {
   "cell_type": "code",
   "execution_count": 80,
   "metadata": {},
   "outputs": [
    {
     "name": "stdout",
     "output_type": "stream",
     "text": [
      "Epoch 1/15\n",
      "3125/3125 [==============================] - 61s 19ms/step - loss: 0.2905 - accuracy: 0.8945 - val_loss: 0.1072 - val_accuracy: 0.9649\n",
      "Epoch 2/15\n",
      "3125/3125 [==============================] - 58s 18ms/step - loss: 0.0830 - accuracy: 0.9710 - val_loss: 0.1745 - val_accuracy: 0.9434\n",
      "Epoch 3/15\n",
      "3125/3125 [==============================] - 56s 18ms/step - loss: 0.0527 - accuracy: 0.9821 - val_loss: 0.1237 - val_accuracy: 0.9619\n",
      "Epoch 4/15\n",
      "3125/3125 [==============================] - 59s 19ms/step - loss: 0.0348 - accuracy: 0.9887 - val_loss: 0.1059 - val_accuracy: 0.9722\n",
      "Epoch 5/15\n",
      "3125/3125 [==============================] - 63s 20ms/step - loss: 0.0324 - accuracy: 0.9893 - val_loss: 0.0975 - val_accuracy: 0.9781\n",
      "Epoch 6/15\n",
      "3125/3125 [==============================] - 62s 20ms/step - loss: 0.0233 - accuracy: 0.9924 - val_loss: 0.1033 - val_accuracy: 0.9773\n",
      "Epoch 7/15\n",
      "3125/3125 [==============================] - 60s 19ms/step - loss: 0.0238 - accuracy: 0.9929 - val_loss: 0.1507 - val_accuracy: 0.9645\n",
      "Epoch 8/15\n",
      "3125/3125 [==============================] - 58s 19ms/step - loss: 0.0250 - accuracy: 0.9921 - val_loss: 0.1254 - val_accuracy: 0.9771\n",
      "Epoch 9/15\n",
      "3125/3125 [==============================] - 59s 19ms/step - loss: 0.0170 - accuracy: 0.9948 - val_loss: 0.1011 - val_accuracy: 0.9800\n",
      "Epoch 10/15\n",
      "3125/3125 [==============================] - 62s 20ms/step - loss: 0.0153 - accuracy: 0.9955 - val_loss: 0.1880 - val_accuracy: 0.9622\n",
      "Epoch 11/15\n",
      "3125/3125 [==============================] - 56s 18ms/step - loss: 0.0165 - accuracy: 0.9952 - val_loss: 0.1094 - val_accuracy: 0.9785\n",
      "Epoch 12/15\n",
      "3125/3125 [==============================] - 55s 18ms/step - loss: 0.0114 - accuracy: 0.9969 - val_loss: 0.1308 - val_accuracy: 0.9745\n",
      "Epoch 13/15\n",
      "3125/3125 [==============================] - 55s 18ms/step - loss: 0.0108 - accuracy: 0.9970 - val_loss: 0.1195 - val_accuracy: 0.9794\n",
      "Epoch 14/15\n",
      "3125/3125 [==============================] - 58s 19ms/step - loss: 0.0129 - accuracy: 0.9960 - val_loss: 0.1591 - val_accuracy: 0.9740\n",
      "Epoch 15/15\n",
      "3125/3125 [==============================] - 59s 19ms/step - loss: 0.0099 - accuracy: 0.9970 - val_loss: 0.1317 - val_accuracy: 0.9755\n"
     ]
    }
   ],
   "source": [
    "history = model.fit(X_train, y_train, epochs = 15, batch_size = 32, validation_data=(X_test, y_test))"
   ]
  },
  {
   "cell_type": "code",
   "execution_count": 81,
   "metadata": {},
   "outputs": [
    {
     "name": "stdout",
     "output_type": "stream",
     "text": [
      "685/685 [==============================] - 2s 3ms/step - loss: 0.1317 - accuracy: 0.9755\n"
     ]
    },
    {
     "data": {
      "text/plain": [
       "[0.1316947638988495, 0.9755162000656128]"
      ]
     },
     "execution_count": 81,
     "metadata": {},
     "output_type": "execute_result"
    }
   ],
   "source": [
    "# evaluate ECG Test Data\n",
    "model.evaluate(X_test, y_test)"
   ]
  },
  {
   "cell_type": "code",
   "execution_count": 82,
   "metadata": {},
   "outputs": [
    {
     "data": {
      "text/plain": [
       "<AxesSubplot:>"
      ]
     },
     "execution_count": 82,
     "metadata": {},
     "output_type": "execute_result"
    },
    {
     "data": {
      "image/png": "[encoded data removed]",
      "text/plain": [
       "<Figure size 432x288 with 1 Axes>"
      ]
     },
     "metadata": {},
     "output_type": "display_data"
    },
    {
     "data": {
      "image/png": "[encoded data removed]",
      "text/plain": [
       "<Figure size 432x288 with 1 Axes>"
      ]
     },
     "metadata": {},
     "output_type": "display_data"
    }
   ],
   "source": [
    "# converting hsitory to dataframe\n",
    "pd.DataFrame(history.history)\n",
    "pd.DataFrame(history.history)[['accuracy', 'val_accuracy']].plot()\n",
    "pd.DataFrame(history.history)[['loss', 'val_loss']].plot()"
   ]
  },
  {
   "cell_type": "code",
   "execution_count": 83,
   "metadata": {},
   "outputs": [],
   "source": [
    "# Make Prediction\n",
    "predict = model.predict(X_test)"
   ]
  },
  {
   "cell_type": "code",
   "execution_count": 84,
   "metadata": {},
   "outputs": [
    {
     "data": {
      "text/plain": [
       "array([[9.99997735e-01, 2.22117433e-06, 4.08190232e-10, 1.00291511e-10,\n",
       "        2.35673265e-12],\n",
       "       [9.40438390e-01, 2.09469633e-07, 5.95613420e-02, 4.08439149e-08,\n",
       "        4.05199763e-11],\n",
       "       [9.99999881e-01, 1.29478266e-07, 1.24328395e-11, 1.92774331e-13,\n",
       "        1.20347824e-13],\n",
       "       ...,\n",
       "       [3.61311265e-07, 2.82816386e-13, 1.66522387e-08, 4.50936359e-16,\n",
       "        9.99999642e-01],\n",
       "       [2.03501905e-25, 2.98073133e-34, 3.90956556e-30, 1.11992950e-23,\n",
       "        1.00000000e+00],\n",
       "       [4.67348447e-29, 1.12700629e-36, 4.45294455e-28, 1.21964159e-26,\n",
       "        1.00000000e+00]], dtype=float32)"
      ]
     },
     "execution_count": 84,
     "metadata": {},
     "output_type": "execute_result"
    }
   ],
   "source": [
    "# Predicted o/p will be in probability distribution \n",
    "predict"
   ]
  },
  {
   "cell_type": "code",
   "execution_count": 85,
   "metadata": {},
   "outputs": [],
   "source": [
    "# distributional probability to integers\n",
    "yhat = np.argmax(predict, axis = 1)"
   ]
  },
  {
   "cell_type": "code",
   "execution_count": 86,
   "metadata": {},
   "outputs": [
    {
     "name": "stdout",
     "output_type": "stream",
     "text": [
      "              precision    recall  f1-score   support\n",
      "\n",
      "           0       1.00      0.98      0.99     18118\n",
      "           1       0.75      0.88      0.81       556\n",
      "           2       0.90      0.97      0.93      1448\n",
      "           3       0.61      0.87      0.72       162\n",
      "           4       0.97      0.99      0.98      1608\n",
      "\n",
      "    accuracy                           0.98     21892\n",
      "   macro avg       0.85      0.94      0.89     21892\n",
      "weighted avg       0.98      0.98      0.98     21892\n",
      "\n"
     ]
    }
   ],
   "source": [
    "from sklearn.metrics import classification_report, confusion_matrix\n",
    "confusion_matrix(np.argmax(y_test, axis = 1), yhat)\n",
    "print(classification_report(np.argmax(y_test, axis=1), yhat))"
   ]
  }
 ],
 "metadata": {
  "kernelspec": {
   "display_name": "Python 3 (ipykernel)",
   "language": "python",
   "name": "python3"
  },
  "language_info": {
   "codemirror_mode": {
    "name": "ipython",
    "version": 3
   },
   "file_extension": ".py",
   "mimetype": "text/x-python",
   "name": "python",
   "nbconvert_exporter": "python",
   "pygments_lexer": "ipython3",
   "version": "3.9.1"
  }
 },
 "nbformat": 4,
 "nbformat_minor": 4
}
